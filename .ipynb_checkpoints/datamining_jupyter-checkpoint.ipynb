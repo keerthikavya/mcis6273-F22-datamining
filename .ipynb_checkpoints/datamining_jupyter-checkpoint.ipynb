{
 "cells": [
  {
   "cell_type": "markdown",
   "id": "dc4d7635",
   "metadata": {},
   "source": [
    "# Podcast questions\n",
    "**1.List 3 things that you learned from this podcast?**\n",
    "- Github is a special API that provides tools that make data analysis much more efficient and manageable.\n",
    "- Juypter can be used as a presentation medium and as a way of tracking and talking about very complex data-driven work. \n",
    "- Jupyter notebook is a better form of version control and tracking of data analysis steps.\n",
    "\n",
    "**2.What is your reaction to the podcast? Pick at least one point Adam brought up in the interview that you agree with and\n",
    "list your reason why?**\n",
    "The podcast has brought up information about the current state of notebooks, including the use case and downside of the Juypter notebook platform.\n",
    "In the interview, Adam stated that during his research of Jupyter notebooks, he found out that 96% of all the analyzed notebooks used python. I agree with this statement because python is a more robust and versatile tool for data analysis. It also has multiple packages, such as matplotlib, that make data analysis easier. Because python has a simple syntax, it makes it easier for people from other disciplines to learn. \n",
    "\n",
    "**3.After listening to the podcast, do you think you are more interested or less interested in learning from Jupyter notebooks\n",
    "on Github?**\n",
    "I am more interested in learning about Jupyter notebooks. After listening to the podcast, it is evident that notebooks are a necessary tool in conducting research and understanding more about data. The fact that it is open source makes it an essential arsenal in analyzing complex data and presenting it efficiently for others to learn from on Github\n",
    "\n"
   ]
  }
 ],
 "metadata": {
  "kernelspec": {
   "display_name": "Python 3 (ipykernel)",
   "language": "python",
   "name": "python3"
  },
  "language_info": {
   "codemirror_mode": {
    "name": "ipython",
    "version": 3
   },
   "file_extension": ".py",
   "mimetype": "text/x-python",
   "name": "python",
   "nbconvert_exporter": "python",
   "pygments_lexer": "ipython3",
   "version": "3.10.6"
  }
 },
 "nbformat": 4,
 "nbformat_minor": 5
}
